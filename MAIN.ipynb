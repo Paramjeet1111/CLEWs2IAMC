{
 "cells": [
  {
   "cell_type": "markdown",
   "id": "5e3079e3",
   "metadata": {},
   "source": [
    "# CLEWs to IAMC Conversion Notebook: Summary & Instructions\n",
    "\n",
    "This notebook demonstrates how to convert CLEWs model results and inputs to IAMC format using the `osemosys2iamc` package and command-line tool. It covers package installation, running the conversion, and post-processing to check mapping success.\n",
    "\n",
    "**Key Steps:**\n",
    "1. **Install and verify `osemosys2iamc`**\n",
    "   - Ensure the package is installed and available in your environment.\n",
    "2. **Run the conversion tool**\n",
    "   - Use the `osemosys2iamc` command-line tool with the correct input, result, config, and output paths.\n",
    "3. **Post-process results**\n",
    "   - Use Python to analyze the mapping summary, identifying successful and unsuccessful IAMC variable mappings.\n",
    "\n",
    "**Important Notes:**\n",
    "- **Paths:** Update all file and directory paths (`input_path`, `result_path`, `output_dir`, config YAMLs, and output Excel files) to match your local setup.\n",
    "- **Config Files:** Ensure you provide the correct YAML configuration files for both results and inputs.\n",
    "- **Output Files:** Specify the desired output Excel file names and locations.\n",
    "- **Dependencies:** The notebook requires `pandas`, `pyyaml`, and `osemosys2iamc`.\n",
    "\n",
    "> ⚠️ **Before running any code cells, review and update all file paths and configuration details to match your system.**"
   ]
  },
  {
   "cell_type": "code",
   "execution_count": null,
   "id": "edececd7-beed-4260-a186-cc1ade074dfe",
   "metadata": {},
   "outputs": [],
   "source": [
    "pip install osemosys2iamc"
   ]
  },
  {
   "cell_type": "markdown",
   "id": "56d06314",
   "metadata": {},
   "source": [
    "# Install Required Package\n",
    "Install the `osemosys2iamc` package to enable OSeMOSYS to IAMC data conversion in this notebook."
   ]
  },
  {
   "cell_type": "code",
   "execution_count": null,
   "id": "34a73ba1-f94a-4355-8868-3e814d50d027",
   "metadata": {
    "scrolled": true
   },
   "outputs": [],
   "source": [
    "pip show osemosys2iamc"
   ]
  },
  {
   "cell_type": "markdown",
   "id": "e6043b9f",
   "metadata": {},
   "source": [
    "# Verify Package Installation\n",
    "Check that the `osemosys2iamc` package is installed and view its details."
   ]
  },
  {
   "cell_type": "markdown",
   "id": "5bbaf32c",
   "metadata": {},
   "source": [
    "# Run osemosys2iamc via For CLWSs Command Line\n",
    "Convert CLEWs results and Inputs to IAMC format using the `osemosys2iamc` command-line tool with specified input, result, config, and output paths."
   ]
  },
  {
   "cell_type": "code",
   "execution_count": null,
   "id": "121b001f-dce0-43e9-bc36-5e99558d326e",
   "metadata": {},
   "outputs": [],
   "source": [
    "import subprocess\n",
    "result = subprocess.run([\n",
    "    \"osemosys2iamc\",\n",
    "    r\"Paste inputs_path Folder Path here\",\n",
    "         #e.g \"C:\\Users\\Documents\\CLEWs2IAMC\\inputs_path\"\n",
    "    r\"Paste results_path Folder Path here\",\n",
    "         #e.g \"C:\\Users\\Documents\\CLEWs2IAMC\\results_path\"\n",
    "    r\"Paste config file Path here\",\n",
    "         #e.g \"C:\\Users\\Documents\\CLEWs2IAMC\\config_prod_tech_result.yaml\"\n",
    "    r\"Paste coutput_path Folder Path here with file name.xlsx\"\n",
    "         #e.g \"C:\\Users\\Documents\\CLEWs2IAMC\\output_path\\prod_tech_result.xlsx\"\n",
    "], capture_output=True, text=True)\n",
    "print(\"Output:\", result.stdout) # Print the standard output and error messages\n",
    "print(\"Errors:\", result.stderr)"
   ]
  },
  {
   "cell_type": "markdown",
   "id": "23f4d4f5",
   "metadata": {},
   "source": [
    "# Post Process: To Check Successful and Unsuccessful Mappings MAPPING SUMMARY \n",
    "Use Python's `subprocess` module to run custom input, result, config, and output paths. This allows for flexible automation Mapping Summary."
   ]
  },
  {
   "cell_type": "code",
   "execution_count": null,
   "id": "204baf09-d9d4-401a-a379-1a46b59a576b",
   "metadata": {},
   "outputs": [],
   "source": [
    "import pandas as pd\n",
    "import yaml\n",
    "\n",
    "# === STEP 1: Load BOTH configs ===\n",
    "# Use the correct config YAML path (same for both if you only have one)\n",
    "config_path = r\"Paste config file Path here\"\n",
    "                 #e.g \"C:\\Users\\Documents\\CLEWs2IAMC\\config_prod_tech_result.yaml\"\n",
    "with open(config_path, 'r') as f_result:\n",
    "    config_result = yaml.safe_load(f_result)\n",
    "\n",
    "with open(config_path, 'r') as f_input:\n",
    "    config_input = yaml.safe_load(f_input)\n",
    "\n",
    "# === STEP 2: Extract IAMC variables from both configs ===\n",
    "# Use the appropriate keys: 'results' for result config, 'inputs' for input config\n",
    "iamc_results = [entry['iamc_variable'] for entry in config_result.get('results', [])]\n",
    "iamc_inputs = [entry['iamc_variable'] for entry in config_input.get('inputs', [])]\n",
    "\n",
    "# === STEP 3: Load BOTH output Excel files ===\n",
    "# Use the exact output path used in subprocess.run()\n",
    "output_excel_path = r\"Paste coutput_path Folder Path here with file name.xlsx\"\n",
    "                      #e.g \"C:\\Users\\Documents\\CLEWs2IAMC\\output_path\\prod_tech_result.xlsx\n",
    "df_result = pd.read_excel(output_excel_path)\n",
    "df_input = pd.read_excel(output_excel_path)\n",
    "\n",
    "result_variables = df_result['Variable'].unique().tolist()\n",
    "input_variables = df_input['Variable'].unique().tolist()\n",
    "\n",
    "# === STEP 4: Compare and classify ===\n",
    "successful_result = [var for var in iamc_results if var in result_variables]\n",
    "unsuccessful_result = [var for var in iamc_results if var not in result_variables]\n",
    "\n",
    "successful_input = [var for var in iamc_inputs if var in input_variables]\n",
    "unsuccessful_input = [var for var in iamc_inputs if var not in input_variables]\n",
    "\n",
    "# === STEP 5: Report ===\n",
    "print(\"\\n---  RESULTS MAPPING SUMMARY ---\")\n",
    "print(f\"Total mappings in result config: {len(iamc_results)}\")\n",
    "print(f\" Successful mappings: {len(successful_result)}\")\n",
    "for var in successful_result:\n",
    "    print(f\"   - {var}\")\n",
    "print(f\" Unsuccessful mappings: {len(unsuccessful_result)}\")\n",
    "for var in unsuccessful_result:\n",
    "    print(f\"   - {var}\")\n",
    "\n",
    "print(\"\\n---  INPUTS MAPPING SUMMARY ---\")\n",
    "print(f\"Total mappings in input config: {len(iamc_inputs)}\")\n",
    "print(f\" Successful mappings: {len(successful_input)}\")\n",
    "for var in successful_input:\n",
    "    print(f\"   - {var}\")\n",
    "print(f\" Unsuccessful mappings: {len(unsuccessful_input)}\")\n",
    "for var in unsuccessful_input:\n",
    "    print(f\"   - {var}\")"
   ]
  },
  {
   "cell_type": "markdown",
   "id": "67ad662d",
   "metadata": {},
   "source": [
    "# Run osemosys2iamc For CLWSs With One RUN for both Input and Results Side \n",
    "Convert CLEWs results and Inputs to IAMC format using the `osemosys2iamc` command-line tool with specified input, result, config, and output paths.\n",
    "NOTE: Provide PAths."
   ]
  },
  {
   "cell_type": "code",
   "execution_count": null,
   "id": "b7e530fc-4469-4bfe-b26b-1dad05a94ea7",
   "metadata": {},
   "outputs": [],
   "source": [
    "import subprocess\n",
    "\n",
    "# Define paths\n",
    "input_path = r\"C:\\Users\\kindu\\Documents\\CLEWs2IAMC\\inputs_path\"\n",
    "result_path = r\"C:\\Users\\kindu\\Documents\\CLEWs2IAMC\\results_path\"\n",
    "output_dir = r\"C:\\Users\\kindu\\Documents\\CLEWs2IAMC\\output_path\"\n",
    "\n",
    "# First run: config for TotalCapacity results\n",
    "config_result = r\"C:\\Users\\kindu\\Documents\\CLEWs2IAMC\\Config_TotalCapacity_results.yaml\"\n",
    "output_result = output_dir + r\"\\TotalCapacity_results.xlsx\"\n",
    "\n",
    "result1 = subprocess.run([\n",
    "    \"osemosys2iamc\",\n",
    "    input_path,\n",
    "    result_path,\n",
    "    config_result,\n",
    "    output_result\n",
    "], capture_output=True, text=True)\n",
    "\n",
    "print(\"First run (TotalCapacity config) output:\", result1.stdout)\n",
    "print(\"First run (TotalCapacity config) errors:\", result1.stderr)\n",
    "\n",
    "# Second run: (optional, placeholder for another config if needed)\n",
    "# Update this path to a real YAML config if available\n",
    "config_input = r\"C:\\Users\\kindu\\Documents\\CLEWs2IAMC\\config_input.yaml\"\n",
    "output_input = output_dir + r\"\\config_input_results.xlsx\"\n",
    "\n",
    "result2 = subprocess.run([\n",
    "    \"osemosys2iamc\",\n",
    "    input_path,\n",
    "    result_path,\n",
    "    config_input,\n",
    "    output_input\n",
    "], capture_output=True, text=True)\n",
    "\n",
    "print(\"Second run (input config) output:\", result2.stdout)\n",
    "print(\"Second run (input config) errors:\", result2.stderr)"
   ]
  }
 ],
 "metadata": {
  "kernelspec": {
   "display_name": "Python 3 (ipykernel)",
   "language": "python",
   "name": "python3"
  },
  "language_info": {
   "codemirror_mode": {
    "name": "ipython",
    "version": 3
   },
   "file_extension": ".py",
   "mimetype": "text/x-python",
   "name": "python",
   "nbconvert_exporter": "python",
   "pygments_lexer": "ipython3",
   "version": "3.11.7"
  },
  "widgets": {
   "application/vnd.jupyter.widget-state+json": {
    "state": {},
    "version_major": 2,
    "version_minor": 0
   }
  }
 },
 "nbformat": 4,
 "nbformat_minor": 5
}
