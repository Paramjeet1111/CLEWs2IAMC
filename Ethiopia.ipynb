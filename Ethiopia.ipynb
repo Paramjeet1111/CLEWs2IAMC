{
 "cells": [
  {
   "cell_type": "markdown",
   "id": "5e3079e3",
   "metadata": {},
   "source": [
    "# CLEWs to IAMC Conversion Notebook: Summary & Instructions\n",
    "\n",
    "This notebook demonstrates how to convert CLEWs model results and inputs to IAMC format using the `osemosys2iamc` package and command-line tool. It covers package installation, running the conversion, and post-processing to check mapping success.\n",
    "\n",
    "**Key Steps:**\n",
    "1. **Install and verify `osemosys2iamc`**\n",
    "   - Ensure the package is installed and available in your environment.\n",
    "2. **Run the conversion tool**\n",
    "   - Use the `osemosys2iamc` command-line tool with the correct input, result, config, and output paths.\n",
    "3. **Post-process results**\n",
    "   - Use Python to analyze the mapping summary, identifying successful and unsuccessful IAMC variable mappings.\n",
    "\n",
    "**Important Notes:**\n",
    "- **Paths:** Update all file and directory paths (`input_path`, `result_path`, `output_dir`, config YAMLs, and output Excel files) to match your local setup.\n",
    "- **Config Files:** Ensure you provide the correct YAML configuration files for both results and inputs.\n",
    "- **Output Files:** Specify the desired output Excel file names and locations.\n",
    "- **Dependencies:** The notebook requires `pandas`, `pyyaml`, and `osemosys2iamc`.\n",
    "\n",
    "> ⚠️ **Before running any code cells, review and update all file paths and configuration details to match your system.**"
   ]
  },
  {
   "cell_type": "code",
   "execution_count": 2,
   "id": "edececd7-beed-4260-a186-cc1ade074dfe",
   "metadata": {},
   "outputs": [
    {
     "name": "stdout",
     "output_type": "stream",
     "text": [
      "Requirement already satisfied: osemosys2iamc in c:\\users\\kindu\\anaconda3\\lib\\site-packages (0.2.2)\n",
      "Requirement already satisfied: matplotlib in c:\\users\\kindu\\anaconda3\\lib\\site-packages (from osemosys2iamc) (3.8.0)\n",
      "Requirement already satisfied: pandas in c:\\users\\kindu\\anaconda3\\lib\\site-packages (from osemosys2iamc) (2.1.4)\n",
      "Requirement already satisfied: pyam-iamc>=1.0 in c:\\users\\kindu\\anaconda3\\lib\\site-packages (from osemosys2iamc) (3.0.0)\n",
      "Requirement already satisfied: iso3166 in c:\\users\\kindu\\anaconda3\\lib\\site-packages (from osemosys2iamc) (2.1.1)\n",
      "Requirement already satisfied: Pint>=0.13 in c:\\users\\kindu\\anaconda3\\lib\\site-packages (from pyam-iamc>=1.0->osemosys2iamc) (0.24.4)\n",
      "Requirement already satisfied: PyYAML>=6.0.1 in c:\\users\\kindu\\anaconda3\\lib\\site-packages (from pyam-iamc>=1.0->osemosys2iamc) (6.0.2)\n",
      "Requirement already satisfied: XlsxWriter>=3.0.3 in c:\\users\\kindu\\anaconda3\\lib\\site-packages (from pyam-iamc>=1.0->osemosys2iamc) (3.2.2)\n",
      "Requirement already satisfied: iam-units>=2020.4.21 in c:\\users\\kindu\\anaconda3\\lib\\site-packages (from pyam-iamc>=1.0->osemosys2iamc) (2023.9.12)\n",
      "Requirement already satisfied: ixmp4>=0.9.0 in c:\\users\\kindu\\anaconda3\\lib\\site-packages (from pyam-iamc>=1.0->osemosys2iamc) (0.9.8)\n",
      "Requirement already satisfied: numpy>=1.26.0 in c:\\users\\kindu\\anaconda3\\lib\\site-packages (from pyam-iamc>=1.0->osemosys2iamc) (1.26.4)\n",
      "Requirement already satisfied: openpyxl>=3.1.2 in c:\\users\\kindu\\anaconda3\\lib\\site-packages (from pyam-iamc>=1.0->osemosys2iamc) (3.1.5)\n",
      "Requirement already satisfied: requests>2.27.1 in c:\\users\\kindu\\anaconda3\\lib\\site-packages (from pyam-iamc>=1.0->osemosys2iamc) (2.31.0)\n",
      "Requirement already satisfied: scipy>=1.10.0 in c:\\users\\kindu\\anaconda3\\lib\\site-packages (from pyam-iamc>=1.0->osemosys2iamc) (1.11.4)\n",
      "Requirement already satisfied: seaborn>=0.11 in c:\\users\\kindu\\anaconda3\\lib\\site-packages (from pyam-iamc>=1.0->osemosys2iamc) (0.12.2)\n",
      "Requirement already satisfied: wquantiles>=0.6 in c:\\users\\kindu\\anaconda3\\lib\\site-packages (from pyam-iamc>=1.0->osemosys2iamc) (0.6)\n",
      "Requirement already satisfied: contourpy>=1.0.1 in c:\\users\\kindu\\anaconda3\\lib\\site-packages (from matplotlib->osemosys2iamc) (1.2.0)\n",
      "Requirement already satisfied: cycler>=0.10 in c:\\users\\kindu\\anaconda3\\lib\\site-packages (from matplotlib->osemosys2iamc) (0.11.0)\n",
      "Requirement already satisfied: fonttools>=4.22.0 in c:\\users\\kindu\\anaconda3\\lib\\site-packages (from matplotlib->osemosys2iamc) (4.25.0)\n",
      "Requirement already satisfied: kiwisolver>=1.0.1 in c:\\users\\kindu\\anaconda3\\lib\\site-packages (from matplotlib->osemosys2iamc) (1.4.4)\n",
      "Requirement already satisfied: packaging>=20.0 in c:\\users\\kindu\\anaconda3\\lib\\site-packages (from matplotlib->osemosys2iamc) (23.1)\n",
      "Requirement already satisfied: pillow>=6.2.0 in c:\\users\\kindu\\anaconda3\\lib\\site-packages (from matplotlib->osemosys2iamc) (10.2.0)\n",
      "Requirement already satisfied: pyparsing>=2.3.1 in c:\\users\\kindu\\anaconda3\\lib\\site-packages (from matplotlib->osemosys2iamc) (3.0.9)\n",
      "Requirement already satisfied: python-dateutil>=2.7 in c:\\users\\kindu\\anaconda3\\lib\\site-packages (from matplotlib->osemosys2iamc) (2.8.2)\n",
      "Requirement already satisfied: pytz>=2020.1 in c:\\users\\kindu\\anaconda3\\lib\\site-packages (from pandas->osemosys2iamc) (2023.3.post1)\n",
      "Requirement already satisfied: tzdata>=2022.1 in c:\\users\\kindu\\anaconda3\\lib\\site-packages (from pandas->osemosys2iamc) (2023.3)\n",
      "Requirement already satisfied: PyJWT>=2.4.0 in c:\\users\\kindu\\anaconda3\\lib\\site-packages (from ixmp4>=0.9.0->pyam-iamc>=1.0->osemosys2iamc) (2.4.0)\n",
      "Requirement already satisfied: SQLAlchemy-Utils>=0.41.0 in c:\\users\\kindu\\anaconda3\\lib\\site-packages (from ixmp4>=0.9.0->pyam-iamc>=1.0->osemosys2iamc) (0.41.2)\n",
      "Requirement already satisfied: SQLAlchemy>=2.0.22 in c:\\users\\kindu\\anaconda3\\lib\\site-packages (from SQLAlchemy[mypy]>=2.0.22->ixmp4>=0.9.0->pyam-iamc>=1.0->osemosys2iamc) (2.0.25)\n",
      "Requirement already satisfied: alembic>=1.12.0 in c:\\users\\kindu\\anaconda3\\lib\\site-packages (from ixmp4>=0.9.0->pyam-iamc>=1.0->osemosys2iamc) (1.14.1)\n",
      "Requirement already satisfied: fastapi>=0.100.0 in c:\\users\\kindu\\anaconda3\\lib\\site-packages (from ixmp4>=0.9.0->pyam-iamc>=1.0->osemosys2iamc) (0.115.8)\n",
      "Requirement already satisfied: httpx>=0.25.0 in c:\\users\\kindu\\anaconda3\\lib\\site-packages (from httpx[http2]>=0.25.0->ixmp4>=0.9.0->pyam-iamc>=1.0->osemosys2iamc) (0.27.0)\n",
      "Requirement already satisfied: pandera>=0.17.0 in c:\\users\\kindu\\anaconda3\\lib\\site-packages (from ixmp4>=0.9.0->pyam-iamc>=1.0->osemosys2iamc) (0.22.1)\n",
      "Requirement already satisfied: psycopg>=3.1.12 in c:\\users\\kindu\\anaconda3\\lib\\site-packages (from psycopg[binary]>=3.1.12->ixmp4>=0.9.0->pyam-iamc>=1.0->osemosys2iamc) (3.2.4)\n",
      "Requirement already satisfied: pydantic>=2.3.0 in c:\\users\\kindu\\anaconda3\\lib\\site-packages (from ixmp4>=0.9.0->pyam-iamc>=1.0->osemosys2iamc) (2.10.6)\n",
      "Requirement already satisfied: pydantic-settings>=2.1.0 in c:\\users\\kindu\\anaconda3\\lib\\site-packages (from ixmp4>=0.9.0->pyam-iamc>=1.0->osemosys2iamc) (2.7.1)\n",
      "Requirement already satisfied: python-dotenv>=1.0.1 in c:\\users\\kindu\\anaconda3\\lib\\site-packages (from ixmp4>=0.9.0->pyam-iamc>=1.0->osemosys2iamc) (1.0.1)\n",
      "Requirement already satisfied: rich>=13.5.2 in c:\\users\\kindu\\anaconda3\\lib\\site-packages (from ixmp4>=0.9.0->pyam-iamc>=1.0->osemosys2iamc) (13.9.4)\n",
      "Requirement already satisfied: toml>=0.10.2 in c:\\users\\kindu\\anaconda3\\lib\\site-packages (from ixmp4>=0.9.0->pyam-iamc>=1.0->osemosys2iamc) (0.10.2)\n",
      "Requirement already satisfied: typer>=0.9.0 in c:\\users\\kindu\\anaconda3\\lib\\site-packages (from ixmp4>=0.9.0->pyam-iamc>=1.0->osemosys2iamc) (0.15.1)\n",
      "Requirement already satisfied: et-xmlfile in c:\\users\\kindu\\anaconda3\\lib\\site-packages (from openpyxl>=3.1.2->pyam-iamc>=1.0->osemosys2iamc) (1.1.0)\n",
      "Requirement already satisfied: platformdirs>=2.1.0 in c:\\users\\kindu\\anaconda3\\lib\\site-packages (from Pint>=0.13->pyam-iamc>=1.0->osemosys2iamc) (3.10.0)\n",
      "Requirement already satisfied: typing-extensions>=4.0.0 in c:\\users\\kindu\\anaconda3\\lib\\site-packages (from Pint>=0.13->pyam-iamc>=1.0->osemosys2iamc) (4.12.2)\n",
      "Requirement already satisfied: flexcache>=0.3 in c:\\users\\kindu\\anaconda3\\lib\\site-packages (from Pint>=0.13->pyam-iamc>=1.0->osemosys2iamc) (0.3)\n",
      "Requirement already satisfied: flexparser>=0.4 in c:\\users\\kindu\\anaconda3\\lib\\site-packages (from Pint>=0.13->pyam-iamc>=1.0->osemosys2iamc) (0.4)\n",
      "Requirement already satisfied: six>=1.5 in c:\\users\\kindu\\anaconda3\\lib\\site-packages (from python-dateutil>=2.7->matplotlib->osemosys2iamc) (1.16.0)\n",
      "Requirement already satisfied: charset-normalizer<4,>=2 in c:\\users\\kindu\\anaconda3\\lib\\site-packages (from requests>2.27.1->pyam-iamc>=1.0->osemosys2iamc) (2.0.4)\n",
      "Requirement already satisfied: idna<4,>=2.5 in c:\\users\\kindu\\anaconda3\\lib\\site-packages (from requests>2.27.1->pyam-iamc>=1.0->osemosys2iamc) (3.4)\n",
      "Requirement already satisfied: urllib3<3,>=1.21.1 in c:\\users\\kindu\\anaconda3\\lib\\site-packages (from requests>2.27.1->pyam-iamc>=1.0->osemosys2iamc) (2.0.7)\n",
      "Requirement already satisfied: certifi>=2017.4.17 in c:\\users\\kindu\\anaconda3\\lib\\site-packages (from requests>2.27.1->pyam-iamc>=1.0->osemosys2iamc) (2024.8.30)\n",
      "Requirement already satisfied: Mako in c:\\users\\kindu\\anaconda3\\lib\\site-packages (from alembic>=1.12.0->ixmp4>=0.9.0->pyam-iamc>=1.0->osemosys2iamc) (1.3.9)\n",
      "Requirement already satisfied: starlette<0.46.0,>=0.40.0 in c:\\users\\kindu\\anaconda3\\lib\\site-packages (from fastapi>=0.100.0->ixmp4>=0.9.0->pyam-iamc>=1.0->osemosys2iamc) (0.45.3)\n",
      "Requirement already satisfied: anyio in c:\\users\\kindu\\anaconda3\\lib\\site-packages (from httpx>=0.25.0->httpx[http2]>=0.25.0->ixmp4>=0.9.0->pyam-iamc>=1.0->osemosys2iamc) (4.2.0)\n",
      "Requirement already satisfied: httpcore==1.* in c:\\users\\kindu\\anaconda3\\lib\\site-packages (from httpx>=0.25.0->httpx[http2]>=0.25.0->ixmp4>=0.9.0->pyam-iamc>=1.0->osemosys2iamc) (1.0.2)\n",
      "Requirement already satisfied: sniffio in c:\\users\\kindu\\anaconda3\\lib\\site-packages (from httpx>=0.25.0->httpx[http2]>=0.25.0->ixmp4>=0.9.0->pyam-iamc>=1.0->osemosys2iamc) (1.3.0)\n",
      "Requirement already satisfied: h11<0.15,>=0.13 in c:\\users\\kindu\\anaconda3\\lib\\site-packages (from httpcore==1.*->httpx>=0.25.0->httpx[http2]>=0.25.0->ixmp4>=0.9.0->pyam-iamc>=1.0->osemosys2iamc) (0.14.0)\n",
      "Requirement already satisfied: h2<5,>=3 in c:\\users\\kindu\\anaconda3\\lib\\site-packages (from httpx[http2]>=0.25.0->ixmp4>=0.9.0->pyam-iamc>=1.0->osemosys2iamc) (4.2.0)\n",
      "Requirement already satisfied: typeguard in c:\\users\\kindu\\anaconda3\\lib\\site-packages (from pandera>=0.17.0->ixmp4>=0.9.0->pyam-iamc>=1.0->osemosys2iamc) (4.4.2)\n",
      "Requirement already satisfied: typing_inspect>=0.6.0 in c:\\users\\kindu\\anaconda3\\lib\\site-packages (from pandera>=0.17.0->ixmp4>=0.9.0->pyam-iamc>=1.0->osemosys2iamc) (0.9.0)\n",
      "Requirement already satisfied: psycopg-binary==3.2.4 in c:\\users\\kindu\\anaconda3\\lib\\site-packages (from psycopg[binary]>=3.1.12->ixmp4>=0.9.0->pyam-iamc>=1.0->osemosys2iamc) (3.2.4)\n",
      "Requirement already satisfied: annotated-types>=0.6.0 in c:\\users\\kindu\\anaconda3\\lib\\site-packages (from pydantic>=2.3.0->ixmp4>=0.9.0->pyam-iamc>=1.0->osemosys2iamc) (0.7.0)\n",
      "Requirement already satisfied: pydantic-core==2.27.2 in c:\\users\\kindu\\anaconda3\\lib\\site-packages (from pydantic>=2.3.0->ixmp4>=0.9.0->pyam-iamc>=1.0->osemosys2iamc) (2.27.2)\n",
      "Requirement already satisfied: markdown-it-py>=2.2.0 in c:\\users\\kindu\\anaconda3\\lib\\site-packages (from rich>=13.5.2->ixmp4>=0.9.0->pyam-iamc>=1.0->osemosys2iamc) (2.2.0)\n",
      "Requirement already satisfied: pygments<3.0.0,>=2.13.0 in c:\\users\\kindu\\anaconda3\\lib\\site-packages (from rich>=13.5.2->ixmp4>=0.9.0->pyam-iamc>=1.0->osemosys2iamc) (2.15.1)\n",
      "Requirement already satisfied: greenlet!=0.4.17 in c:\\users\\kindu\\anaconda3\\lib\\site-packages (from SQLAlchemy>=2.0.22->SQLAlchemy[mypy]>=2.0.22->ixmp4>=0.9.0->pyam-iamc>=1.0->osemosys2iamc) (3.0.1)\n",
      "Requirement already satisfied: mypy>=0.910 in c:\\users\\kindu\\anaconda3\\lib\\site-packages (from SQLAlchemy[mypy]>=2.0.22->ixmp4>=0.9.0->pyam-iamc>=1.0->osemosys2iamc) (1.8.0)\n",
      "Requirement already satisfied: click>=8.0.0 in c:\\users\\kindu\\anaconda3\\lib\\site-packages (from typer>=0.9.0->ixmp4>=0.9.0->pyam-iamc>=1.0->osemosys2iamc) (8.1.7)\n",
      "Requirement already satisfied: shellingham>=1.3.0 in c:\\users\\kindu\\anaconda3\\lib\\site-packages (from typer>=0.9.0->ixmp4>=0.9.0->pyam-iamc>=1.0->osemosys2iamc) (1.5.4)\n",
      "Requirement already satisfied: colorama in c:\\users\\kindu\\anaconda3\\lib\\site-packages (from click>=8.0.0->typer>=0.9.0->ixmp4>=0.9.0->pyam-iamc>=1.0->osemosys2iamc) (0.4.6)\n",
      "Requirement already satisfied: hyperframe<7,>=6.1 in c:\\users\\kindu\\anaconda3\\lib\\site-packages (from h2<5,>=3->httpx[http2]>=0.25.0->ixmp4>=0.9.0->pyam-iamc>=1.0->osemosys2iamc) (6.1.0)\n",
      "Requirement already satisfied: hpack<5,>=4.1 in c:\\users\\kindu\\anaconda3\\lib\\site-packages (from h2<5,>=3->httpx[http2]>=0.25.0->ixmp4>=0.9.0->pyam-iamc>=1.0->osemosys2iamc) (4.1.0)\n",
      "Requirement already satisfied: mdurl~=0.1 in c:\\users\\kindu\\anaconda3\\lib\\site-packages (from markdown-it-py>=2.2.0->rich>=13.5.2->ixmp4>=0.9.0->pyam-iamc>=1.0->osemosys2iamc) (0.1.0)\n",
      "Requirement already satisfied: mypy-extensions>=1.0.0 in c:\\users\\kindu\\anaconda3\\lib\\site-packages (from mypy>=0.910->SQLAlchemy[mypy]>=2.0.22->ixmp4>=0.9.0->pyam-iamc>=1.0->osemosys2iamc) (1.0.0)\n",
      "Requirement already satisfied: MarkupSafe>=0.9.2 in c:\\users\\kindu\\anaconda3\\lib\\site-packages (from Mako->alembic>=1.12.0->ixmp4>=0.9.0->pyam-iamc>=1.0->osemosys2iamc) (2.1.3)\n",
      "Note: you may need to restart the kernel to use updated packages.\n"
     ]
    }
   ],
   "source": [
    "pip install osemosys2iamc"
   ]
  },
  {
   "cell_type": "markdown",
   "id": "56d06314",
   "metadata": {},
   "source": [
    "# Install Required Package\n",
    "Install the `osemosys2iamc` package to enable OSeMOSYS to IAMC data conversion in this notebook."
   ]
  },
  {
   "cell_type": "code",
   "execution_count": null,
   "id": "34a73ba1-f94a-4355-8868-3e814d50d027",
   "metadata": {
    "scrolled": true
   },
   "outputs": [],
   "source": [
    "pip show osemosys2iamc"
   ]
  },
  {
   "cell_type": "markdown",
   "id": "e6043b9f",
   "metadata": {},
   "source": [
    "# Verify Package Installation\n",
    "Check that the `osemosys2iamc` package is installed and view its details."
   ]
  },
  {
   "cell_type": "markdown",
   "id": "5bbaf32c",
   "metadata": {},
   "source": [
    "# Run osemosys2iamc via For CLWSs Command Line\n",
    "Convert CLEWs results and Inputs to IAMC format using the `osemosys2iamc` command-line tool with specified input, result, config, and output paths."
   ]
  },
  {
   "cell_type": "code",
   "execution_count": null,
   "id": "121b001f-dce0-43e9-bc36-5e99558d326e",
   "metadata": {},
   "outputs": [
    {
     "name": "stdout",
     "output_type": "stream",
     "text": [
      "Output: \n",
      "Errors: \n"
     ]
    }
   ],
   "source": [
    "import subprocess\n",
    "result = subprocess.run([\n",
    "    \"osemosys2iamc\",\n",
    "    r\"C:\\Users\\kindu\\Documents\\CLEWs2IAMC\\inputs_path\",\n",
    "    r\"C:\\Users\\kindu\\Documents\\CLEWs2IAMC\\results_path\",\n",
    "    r\"C:\\Users\\kindu\\Documents\\CLEWs2IAMC\\config_prod_tech_result.yaml\", \n",
    "    r\"C:\\Users\\kindu\\Documents\\CLEWs2IAMC\\Config_TotalCapacity_results.yaml\",\n",
    "    r\"C:\\Users\\kindu\\Documents\\CLEWs2IAMC\\output_path\\_prod_tech_result.xlsx\"\n",
    "], capture_output=True, text=True)\n",
    "print(\"Output:\", result.stdout) # Print the standard output and error messages\n",
    "print(\"Errors:\", result.stderr)"
   ]
  },
  {
   "cell_type": "markdown",
   "id": "23f4d4f5",
   "metadata": {},
   "source": [
    "# Post Process: To Check Successful and Unsuccessful Mappings MAPPING SUMMARY \n",
    "Use Python's `subprocess` module to run custom input, result, config, and output paths. This allows for flexible automation Mapping Summary."
   ]
  },
  {
   "cell_type": "code",
   "execution_count": 18,
   "id": "204baf09-d9d4-401a-a379-1a46b59a576b",
   "metadata": {},
   "outputs": [
    {
     "name": "stdout",
     "output_type": "stream",
     "text": [
      "\n",
      "---  RESULTS MAPPING SUMMARY ---\n",
      "Total mappings in result config: 26\n",
      " Successful mappings: 20\n",
      "   - Final Energy|Agriculture|Electricity\n",
      "   - Final Energy|Commercial|Water|Surface Water Extraction\n",
      "   - Final Energy|Commercial|Water|Transfer\n",
      "   - Primary Energy|Oil|Electricity\n",
      "   - Secondary Energy|Electricity\n",
      "   - Land Cover|Built-Up Area\n",
      "   - Land Cover|Forest\n",
      "   - Land Cover|Cropland|Sugar Crops|Rainfed\n",
      "   - Land Cover|Cropland|Sugar Crops|Irrigated\n",
      "   - Land Cover|Cropland|Other Crops|Rainfed\n",
      "   - Land Cover|Cropland|Other Crops|Irrigated\n",
      "   - Land Cover|Cropland|Energy Crops|Rainfed\n",
      "   - Land Cover|Cropland|Cereals|Irrigated\n",
      "   - Water Ecosystems\n",
      "   - Land Cover\n",
      "   - Water Withdrawal|Irrigation\n",
      "   - Water Withdrawal|Electricity\n",
      "   - Water Consumption|Municipal Water\n",
      "   - Water Flows|Precipitation\n",
      "   - Water Consumption\n",
      " Unsuccessful mappings: 6\n",
      "   - Final Energy|Commercial|Water|Groundwater Extraction\n",
      "   - Primary Energy|Coal|Solids\n",
      "   - Primary Energy|Fossil|Gases\n",
      "   - Primary Energy|Biomass|Residues|Crop Residues\n",
      "   - Wind Energy|Electricity|Wind\n",
      "   - solar energy availability|Electricity\n",
      "\n",
      "---  INPUTS MAPPING SUMMARY ---\n",
      "Total mappings in input config: 0\n",
      " Successful mappings: 0\n",
      " Unsuccessful mappings: 0\n"
     ]
    }
   ],
   "source": [
    "import pandas as pd\n",
    "import yaml\n",
    "\n",
    "# === STEP 1: Load BOTH configs ===\n",
    "# Use the correct config YAML path (same for both if you only have one)\n",
    "config_path = r\"C:\\Users\\kindu\\Documents\\CLEWs2IAMC\\config_usebytech_results.yaml\"\n",
    "\n",
    "with open(config_path, 'r') as f_result:\n",
    "    config_result = yaml.safe_load(f_result)\n",
    "\n",
    "with open(config_path, 'r') as f_input:\n",
    "    config_input = yaml.safe_load(f_input)\n",
    "\n",
    "# === STEP 2: Extract IAMC variables from both configs ===\n",
    "# Use the appropriate keys: 'results' for result config, 'inputs' for input config\n",
    "iamc_results = [entry['iamc_variable'] for entry in config_result.get('results', [])]\n",
    "iamc_inputs = [entry['iamc_variable'] for entry in config_input.get('inputs', [])]\n",
    "\n",
    "# === STEP 3: Load BOTH output Excel files ===\n",
    "# Use the exact output path used in subprocess.run()\n",
    "output_excel_path = r\"C:\\Users\\kindu\\Documents\\CLEWs2IAMC\\output_path\\usebytech_results.xlsx\"\n",
    "\n",
    "df_result = pd.read_excel(output_excel_path)\n",
    "df_input = pd.read_excel(output_excel_path)\n",
    "\n",
    "result_variables = df_result['Variable'].unique().tolist()\n",
    "input_variables = df_input['Variable'].unique().tolist()\n",
    "\n",
    "# === STEP 4: Compare and classify ===\n",
    "successful_result = [var for var in iamc_results if var in result_variables]\n",
    "unsuccessful_result = [var for var in iamc_results if var not in result_variables]\n",
    "\n",
    "successful_input = [var for var in iamc_inputs if var in input_variables]\n",
    "unsuccessful_input = [var for var in iamc_inputs if var not in input_variables]\n",
    "\n",
    "# === STEP 5: Report ===\n",
    "print(\"\\n---  RESULTS MAPPING SUMMARY ---\")\n",
    "print(f\"Total mappings in result config: {len(iamc_results)}\")\n",
    "print(f\" Successful mappings: {len(successful_result)}\")\n",
    "for var in successful_result:\n",
    "    print(f\"   - {var}\")\n",
    "print(f\" Unsuccessful mappings: {len(unsuccessful_result)}\")\n",
    "for var in unsuccessful_result:\n",
    "    print(f\"   - {var}\")\n",
    "\n",
    "print(\"\\n---  INPUTS MAPPING SUMMARY ---\")\n",
    "print(f\"Total mappings in input config: {len(iamc_inputs)}\")\n",
    "print(f\" Successful mappings: {len(successful_input)}\")\n",
    "for var in successful_input:\n",
    "    print(f\"   - {var}\")\n",
    "print(f\" Unsuccessful mappings: {len(unsuccessful_input)}\")\n",
    "for var in unsuccessful_input:\n",
    "    print(f\"   - {var}\")"
   ]
  },
  {
   "cell_type": "markdown",
   "id": "67ad662d",
   "metadata": {},
   "source": [
    "# Run osemosys2iamc For CLWSs With One RUN for both Input and Results Side \n",
    "Convert CLEWs results and Inputs to IAMC format using the `osemosys2iamc` command-line tool with specified input, result, config, and output paths.\n",
    "NOTE: Provide PAths."
   ]
  },
  {
   "cell_type": "code",
   "execution_count": null,
   "id": "b7e530fc-4469-4bfe-b26b-1dad05a94ea7",
   "metadata": {},
   "outputs": [
    {
     "name": "stdout",
     "output_type": "stream",
     "text": [
      "First run (TotalCapacity config) output: \n",
      "First run (TotalCapacity config) errors: \n",
      "Second run (input config) output: \n",
      "Second run (input config) errors: \n"
     ]
    }
   ],
   "source": [
    "import subprocess\n",
    "\n",
    "# Define paths\n",
    "input_path = r\"C:\\Users\\kindu\\Documents\\CLEWs2IAMC\\inputs_path\"\n",
    "result_path = r\"C:\\Users\\kindu\\Documents\\CLEWs2IAMC\\results_path\"\n",
    "output_dir = r\"C:\\Users\\kindu\\Documents\\CLEWs2IAMC\\output_path\"\n",
    "\n",
    "# First run: config for TotalCapacity results\n",
    "config_result = r\"C:\\Users\\kindu\\Documents\\CLEWs2IAMC\\Config_TotalCapacity_results.yaml\"\n",
    "output_result = output_dir + r\"\\TotalCapacity_results.xlsx\"\n",
    "\n",
    "result1 = subprocess.run([\n",
    "    \"osemosys2iamc\",\n",
    "    input_path,\n",
    "    result_path,\n",
    "    config_result,\n",
    "    output_result\n",
    "], capture_output=True, text=True)\n",
    "\n",
    "print(\"First run (TotalCapacity config) output:\", result1.stdout)\n",
    "print(\"First run (TotalCapacity config) errors:\", result1.stderr)\n",
    "\n",
    "# Second run: (optional, placeholder for another config if needed)\n",
    "# Update this path to a real YAML config if available\n",
    "config_input = r\"C:\\Users\\kindu\\Documents\\CLEWs2IAMC\\config_input.yaml\"\n",
    "output_input = output_dir + r\"\\config_input_results.xlsx\"\n",
    "\n",
    "result2 = subprocess.run([\n",
    "    \"osemosys2iamc\",\n",
    "    input_path,\n",
    "    result_path,\n",
    "    config_input,\n",
    "    output_input\n",
    "], capture_output=True, text=True)\n",
    "\n",
    "print(\"Second run (input config) output:\", result2.stdout)\n",
    "print(\"Second run (input config) errors:\", result2.stderr)"
   ]
  }
 ],
 "metadata": {
  "kernelspec": {
   "display_name": "Python 3 (ipykernel)",
   "language": "python",
   "name": "python3"
  },
  "language_info": {
   "codemirror_mode": {
    "name": "ipython",
    "version": 3
   },
   "file_extension": ".py",
   "mimetype": "text/x-python",
   "name": "python",
   "nbconvert_exporter": "python",
   "pygments_lexer": "ipython3",
   "version": "3.11.7"
  },
  "widgets": {
   "application/vnd.jupyter.widget-state+json": {
    "state": {},
    "version_major": 2,
    "version_minor": 0
   }
  }
 },
 "nbformat": 4,
 "nbformat_minor": 5
}
